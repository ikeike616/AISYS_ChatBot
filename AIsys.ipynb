{
  "nbformat": 4,
  "nbformat_minor": 0,
  "metadata": {
    "colab": {
      "name": "AIsys.ipynb",
      "provenance": [],
      "collapsed_sections": [],
      "mount_file_id": "1s9UGbWCZTTZpKeRHuo9Y6SuDs1OfuEoI",
      "authorship_tag": "ABX9TyN4AMgRUIBC+q1sOi8LTqmo",
      "include_colab_link": true
    },
    "kernelspec": {
      "name": "python3",
      "display_name": "Python 3"
    },
    "language_info": {
      "name": "python"
    }
  },
  "cells": [
    {
      "cell_type": "markdown",
      "metadata": {
        "id": "view-in-github",
        "colab_type": "text"
      },
      "source": [
        "<a href=\"https://colab.research.google.com/github/ikeike616/AISYS_ChatBot/blob/main/AIsys.ipynb\" target=\"_parent\"><img src=\"https://colab.research.google.com/assets/colab-badge.svg\" alt=\"Open In Colab\"/></a>"
      ]
    },
    {
      "cell_type": "markdown",
      "source": [
        "## **Google Driveとの連携(必須)**"
      ],
      "metadata": {
        "id": "cTIImMldczl3"
      }
    },
    {
      "cell_type": "code",
      "source": [
        "from google.colab import drive\n",
        "drive.mount('/content/drive')"
      ],
      "metadata": {
        "id": "emBtCBsS2Gt8"
      },
      "execution_count": null,
      "outputs": []
    },
    {
      "cell_type": "markdown",
      "source": [
        "## **必要なライブラリのインストール(必須)**"
      ],
      "metadata": {
        "id": "5HGblWlkcfNF"
      }
    },
    {
      "cell_type": "code",
      "execution_count": null,
      "metadata": {
        "colab": {
          "base_uri": "https://localhost:8080/"
        },
        "id": "uB49x0R6XrNA",
        "outputId": "25a7b186-dbe0-4d2a-b58f-98caee1c9347"
      },
      "outputs": [
        {
          "output_type": "stream",
          "name": "stdout",
          "text": [
            "Collecting pymlask\n",
            "  Downloading pymlask-0.3.2.tar.gz (70 kB)\n",
            "\u001b[?25l\r\u001b[K     |████▊                           | 10 kB 17.0 MB/s eta 0:00:01\r\u001b[K     |█████████▍                      | 20 kB 12.9 MB/s eta 0:00:01\r\u001b[K     |██████████████                  | 30 kB 9.5 MB/s eta 0:00:01\r\u001b[K     |██████████████████▊             | 40 kB 4.5 MB/s eta 0:00:01\r\u001b[K     |███████████████████████▍        | 51 kB 4.5 MB/s eta 0:00:01\r\u001b[K     |████████████████████████████    | 61 kB 5.3 MB/s eta 0:00:01\r\u001b[K     |████████████████████████████████| 70 kB 3.6 MB/s \n",
            "\u001b[?25hBuilding wheels for collected packages: pymlask\n",
            "  Building wheel for pymlask (setup.py) ... \u001b[?25l\u001b[?25hdone\n",
            "  Created wheel for pymlask: filename=pymlask-0.3.2-py3-none-any.whl size=74906 sha256=400e563b54ce8bbe82eb011442211c450de3154c21f6d437a5b32b321cec869d\n",
            "  Stored in directory: /root/.cache/pip/wheels/28/a8/2b/a4e4b83dc2ee2d492f49a8ad59325fff4d3540254a5a4ac560\n",
            "Successfully built pymlask\n",
            "Installing collected packages: pymlask\n",
            "Successfully installed pymlask-0.3.2\n"
          ]
        }
      ],
      "source": [
        "!pip install pymlask"
      ]
    },
    {
      "cell_type": "code",
      "source": [
        "!apt install aptitude\n",
        "!aptitude install mecab libmecab-dev mecab-ipadic-utf8 git make curl xz-utils file -y\n",
        "!pip install mecab-python3==0.7"
      ],
      "metadata": {
        "colab": {
          "base_uri": "https://localhost:8080/"
        },
        "id": "SqeWBWZGXxnU",
        "outputId": "9cf44c7d-a792-44e9-94f0-315ed1da8bbc"
      },
      "execution_count": null,
      "outputs": [
        {
          "output_type": "stream",
          "name": "stdout",
          "text": [
            "Reading package lists... Done\n",
            "Building dependency tree       \n",
            "Reading state information... Done\n",
            "The following package was automatically installed and is no longer required:\n",
            "  libnvidia-common-460\n",
            "Use 'apt autoremove' to remove it.\n",
            "The following additional packages will be installed:\n",
            "  aptitude-common libcgi-fast-perl libcgi-pm-perl libclass-accessor-perl\n",
            "  libcwidget3v5 libencode-locale-perl libfcgi-perl libhtml-parser-perl\n",
            "  libhtml-tagset-perl libhttp-date-perl libhttp-message-perl libio-html-perl\n",
            "  libio-string-perl liblwp-mediatypes-perl libparse-debianchangelog-perl\n",
            "  libsigc++-2.0-0v5 libsub-name-perl libtimedate-perl liburi-perl libxapian30\n",
            "Suggested packages:\n",
            "  aptitude-doc-en | aptitude-doc apt-xapian-index debtags tasksel\n",
            "  libcwidget-dev libdata-dump-perl libhtml-template-perl libxml-simple-perl\n",
            "  libwww-perl xapian-tools\n",
            "The following NEW packages will be installed:\n",
            "  aptitude aptitude-common libcgi-fast-perl libcgi-pm-perl\n",
            "  libclass-accessor-perl libcwidget3v5 libencode-locale-perl libfcgi-perl\n",
            "  libhtml-parser-perl libhtml-tagset-perl libhttp-date-perl\n",
            "  libhttp-message-perl libio-html-perl libio-string-perl\n",
            "  liblwp-mediatypes-perl libparse-debianchangelog-perl libsigc++-2.0-0v5\n",
            "  libsub-name-perl libtimedate-perl liburi-perl libxapian30\n",
            "0 upgraded, 21 newly installed, 0 to remove and 42 not upgraded.\n",
            "Need to get 3,877 kB of archives.\n",
            "After this operation, 15.6 MB of additional disk space will be used.\n",
            "Get:1 http://archive.ubuntu.com/ubuntu bionic/main amd64 aptitude-common all 0.8.10-6ubuntu1 [1,014 kB]\n",
            "Get:2 http://archive.ubuntu.com/ubuntu bionic/main amd64 libsigc++-2.0-0v5 amd64 2.10.0-2 [10.9 kB]\n",
            "Get:3 http://archive.ubuntu.com/ubuntu bionic/main amd64 libcwidget3v5 amd64 0.5.17-7 [286 kB]\n",
            "Get:4 http://archive.ubuntu.com/ubuntu bionic-updates/main amd64 libxapian30 amd64 1.4.5-1ubuntu0.1 [631 kB]\n",
            "Get:5 http://archive.ubuntu.com/ubuntu bionic/main amd64 aptitude amd64 0.8.10-6ubuntu1 [1,269 kB]\n",
            "Get:6 http://archive.ubuntu.com/ubuntu bionic/main amd64 libhtml-tagset-perl all 3.20-3 [12.1 kB]\n",
            "Get:7 http://archive.ubuntu.com/ubuntu bionic/main amd64 liburi-perl all 1.73-1 [77.2 kB]\n",
            "Get:8 http://archive.ubuntu.com/ubuntu bionic/main amd64 libhtml-parser-perl amd64 3.72-3build1 [85.9 kB]\n",
            "Get:9 http://archive.ubuntu.com/ubuntu bionic/main amd64 libcgi-pm-perl all 4.38-1 [185 kB]\n",
            "Get:10 http://archive.ubuntu.com/ubuntu bionic/main amd64 libfcgi-perl amd64 0.78-2build1 [32.8 kB]\n",
            "Get:11 http://archive.ubuntu.com/ubuntu bionic/main amd64 libcgi-fast-perl all 1:2.13-1 [9,940 B]\n",
            "Get:12 http://archive.ubuntu.com/ubuntu bionic/main amd64 libsub-name-perl amd64 0.21-1build1 [11.6 kB]\n",
            "Get:13 http://archive.ubuntu.com/ubuntu bionic/main amd64 libclass-accessor-perl all 0.51-1 [21.2 kB]\n",
            "Get:14 http://archive.ubuntu.com/ubuntu bionic/main amd64 libencode-locale-perl all 1.05-1 [12.3 kB]\n",
            "Get:15 http://archive.ubuntu.com/ubuntu bionic/main amd64 libtimedate-perl all 2.3000-2 [37.5 kB]\n",
            "Get:16 http://archive.ubuntu.com/ubuntu bionic/main amd64 libhttp-date-perl all 6.02-1 [10.4 kB]\n",
            "Get:17 http://archive.ubuntu.com/ubuntu bionic/main amd64 libio-html-perl all 1.001-1 [14.9 kB]\n",
            "Get:18 http://archive.ubuntu.com/ubuntu bionic/main amd64 liblwp-mediatypes-perl all 6.02-1 [21.7 kB]\n",
            "Get:19 http://archive.ubuntu.com/ubuntu bionic/main amd64 libhttp-message-perl all 6.14-1 [72.1 kB]\n",
            "Get:20 http://archive.ubuntu.com/ubuntu bionic/main amd64 libio-string-perl all 1.08-3 [11.1 kB]\n",
            "Get:21 http://archive.ubuntu.com/ubuntu bionic/main amd64 libparse-debianchangelog-perl all 1.2.0-12 [49.5 kB]\n",
            "Fetched 3,877 kB in 1s (2,858 kB/s)\n",
            "Selecting previously unselected package aptitude-common.\n",
            "(Reading database ... 155629 files and directories currently installed.)\n",
            "Preparing to unpack .../00-aptitude-common_0.8.10-6ubuntu1_all.deb ...\n",
            "Unpacking aptitude-common (0.8.10-6ubuntu1) ...\n",
            "Selecting previously unselected package libsigc++-2.0-0v5:amd64.\n",
            "Preparing to unpack .../01-libsigc++-2.0-0v5_2.10.0-2_amd64.deb ...\n",
            "Unpacking libsigc++-2.0-0v5:amd64 (2.10.0-2) ...\n",
            "Selecting previously unselected package libcwidget3v5:amd64.\n",
            "Preparing to unpack .../02-libcwidget3v5_0.5.17-7_amd64.deb ...\n",
            "Unpacking libcwidget3v5:amd64 (0.5.17-7) ...\n",
            "Selecting previously unselected package libxapian30:amd64.\n",
            "Preparing to unpack .../03-libxapian30_1.4.5-1ubuntu0.1_amd64.deb ...\n",
            "Unpacking libxapian30:amd64 (1.4.5-1ubuntu0.1) ...\n",
            "Selecting previously unselected package aptitude.\n",
            "Preparing to unpack .../04-aptitude_0.8.10-6ubuntu1_amd64.deb ...\n",
            "Unpacking aptitude (0.8.10-6ubuntu1) ...\n",
            "Selecting previously unselected package libhtml-tagset-perl.\n",
            "Preparing to unpack .../05-libhtml-tagset-perl_3.20-3_all.deb ...\n",
            "Unpacking libhtml-tagset-perl (3.20-3) ...\n",
            "Selecting previously unselected package liburi-perl.\n",
            "Preparing to unpack .../06-liburi-perl_1.73-1_all.deb ...\n",
            "Unpacking liburi-perl (1.73-1) ...\n",
            "Selecting previously unselected package libhtml-parser-perl.\n",
            "Preparing to unpack .../07-libhtml-parser-perl_3.72-3build1_amd64.deb ...\n",
            "Unpacking libhtml-parser-perl (3.72-3build1) ...\n",
            "Selecting previously unselected package libcgi-pm-perl.\n",
            "Preparing to unpack .../08-libcgi-pm-perl_4.38-1_all.deb ...\n",
            "Unpacking libcgi-pm-perl (4.38-1) ...\n",
            "Selecting previously unselected package libfcgi-perl.\n",
            "Preparing to unpack .../09-libfcgi-perl_0.78-2build1_amd64.deb ...\n",
            "Unpacking libfcgi-perl (0.78-2build1) ...\n",
            "Selecting previously unselected package libcgi-fast-perl.\n",
            "Preparing to unpack .../10-libcgi-fast-perl_1%3a2.13-1_all.deb ...\n",
            "Unpacking libcgi-fast-perl (1:2.13-1) ...\n",
            "Selecting previously unselected package libsub-name-perl.\n",
            "Preparing to unpack .../11-libsub-name-perl_0.21-1build1_amd64.deb ...\n",
            "Unpacking libsub-name-perl (0.21-1build1) ...\n",
            "Selecting previously unselected package libclass-accessor-perl.\n",
            "Preparing to unpack .../12-libclass-accessor-perl_0.51-1_all.deb ...\n",
            "Unpacking libclass-accessor-perl (0.51-1) ...\n",
            "Selecting previously unselected package libencode-locale-perl.\n",
            "Preparing to unpack .../13-libencode-locale-perl_1.05-1_all.deb ...\n",
            "Unpacking libencode-locale-perl (1.05-1) ...\n",
            "Selecting previously unselected package libtimedate-perl.\n",
            "Preparing to unpack .../14-libtimedate-perl_2.3000-2_all.deb ...\n",
            "Unpacking libtimedate-perl (2.3000-2) ...\n",
            "Selecting previously unselected package libhttp-date-perl.\n",
            "Preparing to unpack .../15-libhttp-date-perl_6.02-1_all.deb ...\n",
            "Unpacking libhttp-date-perl (6.02-1) ...\n",
            "Selecting previously unselected package libio-html-perl.\n",
            "Preparing to unpack .../16-libio-html-perl_1.001-1_all.deb ...\n",
            "Unpacking libio-html-perl (1.001-1) ...\n",
            "Selecting previously unselected package liblwp-mediatypes-perl.\n",
            "Preparing to unpack .../17-liblwp-mediatypes-perl_6.02-1_all.deb ...\n",
            "Unpacking liblwp-mediatypes-perl (6.02-1) ...\n",
            "Selecting previously unselected package libhttp-message-perl.\n",
            "Preparing to unpack .../18-libhttp-message-perl_6.14-1_all.deb ...\n",
            "Unpacking libhttp-message-perl (6.14-1) ...\n",
            "Selecting previously unselected package libio-string-perl.\n",
            "Preparing to unpack .../19-libio-string-perl_1.08-3_all.deb ...\n",
            "Unpacking libio-string-perl (1.08-3) ...\n",
            "Selecting previously unselected package libparse-debianchangelog-perl.\n",
            "Preparing to unpack .../20-libparse-debianchangelog-perl_1.2.0-12_all.deb ...\n",
            "Unpacking libparse-debianchangelog-perl (1.2.0-12) ...\n",
            "Setting up libhtml-tagset-perl (3.20-3) ...\n",
            "Setting up libxapian30:amd64 (1.4.5-1ubuntu0.1) ...\n",
            "Setting up libencode-locale-perl (1.05-1) ...\n",
            "Setting up libtimedate-perl (2.3000-2) ...\n",
            "Setting up libio-html-perl (1.001-1) ...\n",
            "Setting up aptitude-common (0.8.10-6ubuntu1) ...\n",
            "Setting up liblwp-mediatypes-perl (6.02-1) ...\n",
            "Setting up liburi-perl (1.73-1) ...\n",
            "Setting up libhtml-parser-perl (3.72-3build1) ...\n",
            "Setting up libcgi-pm-perl (4.38-1) ...\n",
            "Setting up libio-string-perl (1.08-3) ...\n",
            "Setting up libsub-name-perl (0.21-1build1) ...\n",
            "Setting up libfcgi-perl (0.78-2build1) ...\n",
            "Setting up libsigc++-2.0-0v5:amd64 (2.10.0-2) ...\n",
            "Setting up libclass-accessor-perl (0.51-1) ...\n",
            "Setting up libhttp-date-perl (6.02-1) ...\n",
            "Setting up libcgi-fast-perl (1:2.13-1) ...\n",
            "Setting up libparse-debianchangelog-perl (1.2.0-12) ...\n",
            "Setting up libhttp-message-perl (6.14-1) ...\n",
            "Setting up libcwidget3v5:amd64 (0.5.17-7) ...\n",
            "Setting up aptitude (0.8.10-6ubuntu1) ...\n",
            "update-alternatives: using /usr/bin/aptitude-curses to provide /usr/bin/aptitude (aptitude) in auto mode\n",
            "Processing triggers for man-db (2.8.3-2ubuntu0.1) ...\n",
            "Processing triggers for libc-bin (2.27-3ubuntu1.3) ...\n",
            "/sbin/ldconfig.real: /usr/local/lib/python3.7/dist-packages/ideep4py/lib/libmkldnn.so.0 is not a symbolic link\n",
            "\n",
            "git is already installed at the requested version (1:2.17.1-1ubuntu0.11)\n",
            "make is already installed at the requested version (4.1-9.1ubuntu1)\n",
            "curl is already installed at the requested version (7.58.0-2ubuntu3.18)\n",
            "git is already installed at the requested version (1:2.17.1-1ubuntu0.11)\n",
            "make is already installed at the requested version (4.1-9.1ubuntu1)\n",
            "curl is already installed at the requested version (7.58.0-2ubuntu3.18)\n",
            "The following NEW packages will be installed:\n",
            "  file libmagic-mgc{a} libmagic1{a} libmecab-dev libmecab2{a} mecab mecab-ipadic{a} mecab-ipadic-utf8 mecab-jumandic{a} mecab-jumandic-utf8{a} mecab-utils{a} \n",
            "The following packages will be REMOVED:\n",
            "  libnvidia-common-460{u} \n",
            "The following packages will be upgraded:\n",
            "  xz-utils \n",
            "1 packages upgraded, 11 newly installed, 1 to remove and 41 not upgraded.\n",
            "Need to get 29.3 MB of archives. After unpacking 282 MB will be used.\n",
            "Get: 1 http://archive.ubuntu.com/ubuntu bionic-updates/main amd64 libmagic-mgc amd64 1:5.32-2ubuntu0.4 [184 kB]\n",
            "Get: 2 http://archive.ubuntu.com/ubuntu bionic-updates/main amd64 libmagic1 amd64 1:5.32-2ubuntu0.4 [68.6 kB]\n",
            "Get: 3 http://archive.ubuntu.com/ubuntu bionic-updates/main amd64 file amd64 1:5.32-2ubuntu0.4 [22.1 kB]\n",
            "Get: 4 http://archive.ubuntu.com/ubuntu bionic-updates/main amd64 xz-utils amd64 5.2.2-1.3ubuntu0.1 [83.8 kB]\n",
            "Get: 5 http://archive.ubuntu.com/ubuntu bionic/universe amd64 libmecab2 amd64 0.996-5 [257 kB]\n",
            "Get: 6 http://archive.ubuntu.com/ubuntu bionic/universe amd64 libmecab-dev amd64 0.996-5 [308 kB]\n",
            "Get: 7 http://archive.ubuntu.com/ubuntu bionic/universe amd64 mecab-utils amd64 0.996-5 [4,856 B]\n",
            "Get: 8 http://archive.ubuntu.com/ubuntu bionic/universe amd64 mecab-jumandic-utf8 all 7.0-20130310-4 [16.2 MB]\n",
            "Get: 9 http://archive.ubuntu.com/ubuntu bionic/universe amd64 mecab-jumandic all 7.0-20130310-4 [2,212 B]\n",
            "Get: 10 http://archive.ubuntu.com/ubuntu bionic/universe amd64 mecab-ipadic all 2.7.0-20070801+main-1 [12.1 MB]\n",
            "Get: 11 http://archive.ubuntu.com/ubuntu bionic/universe amd64 mecab amd64 0.996-5 [132 kB]\n",
            "Get: 12 http://archive.ubuntu.com/ubuntu bionic/universe amd64 mecab-ipadic-utf8 all 2.7.0-20070801+main-1 [3,522 B]\n",
            "Fetched 29.3 MB in 2s (14.8 MB/s)\n",
            "(Reading database ... 156088 files and directories currently installed.)\n",
            "Removing libnvidia-common-460 (460.106.00-0ubuntu1) ...\n",
            "Selecting previously unselected package libmagic-mgc.\n",
            "(Reading database ... 156083 files and directories currently installed.)\n",
            "Preparing to unpack .../00-libmagic-mgc_1%3a5.32-2ubuntu0.4_amd64.deb ...\n",
            "Unpacking libmagic-mgc (1:5.32-2ubuntu0.4) ...\n",
            "Selecting previously unselected package libmagic1:amd64.\n",
            "Preparing to unpack .../01-libmagic1_1%3a5.32-2ubuntu0.4_amd64.deb ...\n",
            "Unpacking libmagic1:amd64 (1:5.32-2ubuntu0.4) ...\n",
            "Selecting previously unselected package file.\n",
            "Preparing to unpack .../02-file_1%3a5.32-2ubuntu0.4_amd64.deb ...\n",
            "Unpacking file (1:5.32-2ubuntu0.4) ...\n",
            "Preparing to unpack .../03-xz-utils_5.2.2-1.3ubuntu0.1_amd64.deb ...\n",
            "Unpacking xz-utils (5.2.2-1.3ubuntu0.1) over (5.2.2-1.3) ...\n",
            "Selecting previously unselected package libmecab2:amd64.\n",
            "Preparing to unpack .../04-libmecab2_0.996-5_amd64.deb ...\n",
            "Unpacking libmecab2:amd64 (0.996-5) ...\n",
            "Selecting previously unselected package libmecab-dev.\n",
            "Preparing to unpack .../05-libmecab-dev_0.996-5_amd64.deb ...\n",
            "Unpacking libmecab-dev (0.996-5) ...\n",
            "Selecting previously unselected package mecab-utils.\n",
            "Preparing to unpack .../06-mecab-utils_0.996-5_amd64.deb ...\n",
            "Unpacking mecab-utils (0.996-5) ...\n",
            "Selecting previously unselected package mecab-jumandic-utf8.\n",
            "Preparing to unpack .../07-mecab-jumandic-utf8_7.0-20130310-4_all.deb ...\n",
            "Unpacking mecab-jumandic-utf8 (7.0-20130310-4) ...\n",
            "Selecting previously unselected package mecab-jumandic.\n",
            "Preparing to unpack .../08-mecab-jumandic_7.0-20130310-4_all.deb ...\n",
            "Unpacking mecab-jumandic (7.0-20130310-4) ...\n",
            "Selecting previously unselected package mecab-ipadic.\n",
            "Preparing to unpack .../09-mecab-ipadic_2.7.0-20070801+main-1_all.deb ...\n",
            "Unpacking mecab-ipadic (2.7.0-20070801+main-1) ...\n",
            "Selecting previously unselected package mecab.\n",
            "Preparing to unpack .../10-mecab_0.996-5_amd64.deb ...\n",
            "Unpacking mecab (0.996-5) ...\n",
            "Selecting previously unselected package mecab-ipadic-utf8.\n",
            "Preparing to unpack .../11-mecab-ipadic-utf8_2.7.0-20070801+main-1_all.deb ...\n",
            "Unpacking mecab-ipadic-utf8 (2.7.0-20070801+main-1) ...\n",
            "Setting up libmecab2:amd64 (0.996-5) ...\n",
            "Setting up libmagic-mgc (1:5.32-2ubuntu0.4) ...\n",
            "Setting up libmagic1:amd64 (1:5.32-2ubuntu0.4) ...\n",
            "Setting up xz-utils (5.2.2-1.3ubuntu0.1) ...\n",
            "update-alternatives: warning: forcing reinstallation of alternative /usr/bin/xz because link group lzma is broken\n",
            "Setting up mecab-utils (0.996-5) ...\n",
            "Setting up mecab-ipadic (2.7.0-20070801+main-1) ...\n",
            "Compiling IPA dictionary for Mecab.  This takes long time...\n",
            "reading /usr/share/mecab/dic/ipadic/unk.def ... 40\n",
            "emitting double-array: 100% |###########################################| \n",
            "/usr/share/mecab/dic/ipadic/model.def is not found. skipped.\n",
            "reading /usr/share/mecab/dic/ipadic/Adj.csv ... 27210\n",
            "reading /usr/share/mecab/dic/ipadic/Postp.csv ... 146\n",
            "reading /usr/share/mecab/dic/ipadic/Others.csv ... 2\n",
            "reading /usr/share/mecab/dic/ipadic/Noun.number.csv ... 42\n",
            "reading /usr/share/mecab/dic/ipadic/Noun.adjv.csv ... 3328\n",
            "reading /usr/share/mecab/dic/ipadic/Noun.others.csv ... 151\n",
            "reading /usr/share/mecab/dic/ipadic/Noun.demonst.csv ... 120\n",
            "reading /usr/share/mecab/dic/ipadic/Noun.place.csv ... 72999\n",
            "reading /usr/share/mecab/dic/ipadic/Noun.adverbal.csv ... 795\n",
            "reading /usr/share/mecab/dic/ipadic/Filler.csv ... 19\n",
            "reading /usr/share/mecab/dic/ipadic/Suffix.csv ... 1393\n",
            "reading /usr/share/mecab/dic/ipadic/Noun.csv ... 60477\n",
            "reading /usr/share/mecab/dic/ipadic/Adverb.csv ... 3032\n",
            "reading /usr/share/mecab/dic/ipadic/Noun.verbal.csv ... 12146\n",
            "reading /usr/share/mecab/dic/ipadic/Interjection.csv ... 252\n",
            "reading /usr/share/mecab/dic/ipadic/Noun.name.csv ... 34202\n",
            "reading /usr/share/mecab/dic/ipadic/Symbol.csv ... 208\n",
            "reading /usr/share/mecab/dic/ipadic/Verb.csv ... 130750\n",
            "reading /usr/share/mecab/dic/ipadic/Noun.proper.csv ... 27327\n",
            "reading /usr/share/mecab/dic/ipadic/Auxil.csv ... 199\n",
            "reading /usr/share/mecab/dic/ipadic/Noun.org.csv ... 16668\n",
            "reading /usr/share/mecab/dic/ipadic/Noun.nai.csv ... 42\n",
            "reading /usr/share/mecab/dic/ipadic/Conjunction.csv ... 171\n",
            "reading /usr/share/mecab/dic/ipadic/Postp-col.csv ... 91\n",
            "reading /usr/share/mecab/dic/ipadic/Prefix.csv ... 221\n",
            "reading /usr/share/mecab/dic/ipadic/Adnominal.csv ... 135\n",
            "emitting double-array: 100% |###########################################| \n",
            "reading /usr/share/mecab/dic/ipadic/matrix.def ... 1316x1316\n",
            "emitting matrix      : 100% |###########################################| \n",
            "\n",
            "done!\n",
            "update-alternatives: using /var/lib/mecab/dic/ipadic to provide /var/lib/mecab/dic/debian (mecab-dictionary) in auto mode\n",
            "Setting up libmecab-dev (0.996-5) ...\n",
            "Setting up file (1:5.32-2ubuntu0.4) ...\n",
            "Setting up mecab-jumandic-utf8 (7.0-20130310-4) ...\n",
            "Compiling Juman dictionary for Mecab.\n",
            "reading /usr/share/mecab/dic/juman/unk.def ... 37\n",
            "emitting double-array: 100% |###########################################| \n",
            "reading /usr/share/mecab/dic/juman/Special.csv ... 158\n",
            "reading /usr/share/mecab/dic/juman/Postp.csv ... 108\n",
            "reading /usr/share/mecab/dic/juman/Noun.keishiki.csv ... 8\n",
            "reading /usr/share/mecab/dic/juman/Auto.csv ... 18931\n",
            "reading /usr/share/mecab/dic/juman/Rengo.csv ... 1118\n",
            "reading /usr/share/mecab/dic/juman/Suffix.csv ... 2128\n",
            "reading /usr/share/mecab/dic/juman/Noun.koyuu.csv ... 7964\n",
            "reading /usr/share/mecab/dic/juman/Emoticon.csv ... 972\n",
            "reading /usr/share/mecab/dic/juman/AuxV.csv ... 593\n",
            "reading /usr/share/mecab/dic/juman/Assert.csv ... 34\n",
            "reading /usr/share/mecab/dic/juman/Demonstrative.csv ... 97\n",
            "reading /usr/share/mecab/dic/juman/Noun.suusi.csv ... 49\n",
            "reading /usr/share/mecab/dic/juman/Noun.hukusi.csv ... 81\n",
            "reading /usr/share/mecab/dic/juman/ContentW.csv ... 551145\n",
            "reading /usr/share/mecab/dic/juman/Prefix.csv ... 90\n",
            "reading /usr/share/mecab/dic/juman/Wikipedia.csv ... 167709\n",
            "emitting double-array: 100% |###########################################| \n",
            "reading /usr/share/mecab/dic/juman/matrix.def ... 1876x1876\n",
            "emitting matrix      : 100% |###########################################| \n",
            "\n",
            "done!\n",
            "Setting up mecab-ipadic-utf8 (2.7.0-20070801+main-1) ...\n",
            "Compiling IPA dictionary for Mecab.  This takes long time...\n",
            "reading /usr/share/mecab/dic/ipadic/unk.def ... 40\n",
            "emitting double-array: 100% |###########################################| \n",
            "/usr/share/mecab/dic/ipadic/model.def is not found. skipped.\n",
            "reading /usr/share/mecab/dic/ipadic/Adj.csv ... 27210\n",
            "reading /usr/share/mecab/dic/ipadic/Postp.csv ... 146\n",
            "reading /usr/share/mecab/dic/ipadic/Others.csv ... 2\n",
            "reading /usr/share/mecab/dic/ipadic/Noun.number.csv ... 42\n",
            "reading /usr/share/mecab/dic/ipadic/Noun.adjv.csv ... 3328\n",
            "reading /usr/share/mecab/dic/ipadic/Noun.others.csv ... 151\n",
            "reading /usr/share/mecab/dic/ipadic/Noun.demonst.csv ... 120\n",
            "reading /usr/share/mecab/dic/ipadic/Noun.place.csv ... 72999\n",
            "reading /usr/share/mecab/dic/ipadic/Noun.adverbal.csv ... 795\n",
            "reading /usr/share/mecab/dic/ipadic/Filler.csv ... 19\n",
            "reading /usr/share/mecab/dic/ipadic/Suffix.csv ... 1393\n",
            "reading /usr/share/mecab/dic/ipadic/Noun.csv ... 60477\n",
            "reading /usr/share/mecab/dic/ipadic/Adverb.csv ... 3032\n",
            "reading /usr/share/mecab/dic/ipadic/Noun.verbal.csv ... 12146\n",
            "reading /usr/share/mecab/dic/ipadic/Interjection.csv ... 252\n",
            "reading /usr/share/mecab/dic/ipadic/Noun.name.csv ... 34202\n",
            "reading /usr/share/mecab/dic/ipadic/Symbol.csv ... 208\n",
            "reading /usr/share/mecab/dic/ipadic/Verb.csv ... 130750\n",
            "reading /usr/share/mecab/dic/ipadic/Noun.proper.csv ... 27327\n",
            "reading /usr/share/mecab/dic/ipadic/Auxil.csv ... 199\n",
            "reading /usr/share/mecab/dic/ipadic/Noun.org.csv ... 16668\n",
            "reading /usr/share/mecab/dic/ipadic/Noun.nai.csv ... 42\n",
            "reading /usr/share/mecab/dic/ipadic/Conjunction.csv ... 171\n",
            "reading /usr/share/mecab/dic/ipadic/Postp-col.csv ... 91\n",
            "reading /usr/share/mecab/dic/ipadic/Prefix.csv ... 221\n",
            "reading /usr/share/mecab/dic/ipadic/Adnominal.csv ... 135\n",
            "emitting double-array: 100% |###########################################| \n",
            "reading /usr/share/mecab/dic/ipadic/matrix.def ... 1316x1316\n",
            "emitting matrix      : 100% |###########################################| \n",
            "\n",
            "done!\n",
            "update-alternatives: using /var/lib/mecab/dic/ipadic-utf8 to provide /var/lib/mecab/dic/debian (mecab-dictionary) in auto mode\n",
            "Setting up mecab (0.996-5) ...\n",
            "Compiling IPA dictionary for Mecab.  This takes long time...\n",
            "reading /usr/share/mecab/dic/ipadic/unk.def ... 40\n",
            "emitting double-array: 100% |###########################################| \n",
            "/usr/share/mecab/dic/ipadic/model.def is not found. skipped.\n",
            "reading /usr/share/mecab/dic/ipadic/Adj.csv ... 27210\n",
            "reading /usr/share/mecab/dic/ipadic/Postp.csv ... 146\n",
            "reading /usr/share/mecab/dic/ipadic/Others.csv ... 2\n",
            "reading /usr/share/mecab/dic/ipadic/Noun.number.csv ... 42\n",
            "reading /usr/share/mecab/dic/ipadic/Noun.adjv.csv ... 3328\n",
            "reading /usr/share/mecab/dic/ipadic/Noun.others.csv ... 151\n",
            "reading /usr/share/mecab/dic/ipadic/Noun.demonst.csv ... 120\n",
            "reading /usr/share/mecab/dic/ipadic/Noun.place.csv ... 72999\n",
            "reading /usr/share/mecab/dic/ipadic/Noun.adverbal.csv ... 795\n",
            "reading /usr/share/mecab/dic/ipadic/Filler.csv ... 19\n",
            "reading /usr/share/mecab/dic/ipadic/Suffix.csv ... 1393\n",
            "reading /usr/share/mecab/dic/ipadic/Noun.csv ... 60477\n",
            "reading /usr/share/mecab/dic/ipadic/Adverb.csv ... 3032\n",
            "reading /usr/share/mecab/dic/ipadic/Noun.verbal.csv ... 12146\n",
            "reading /usr/share/mecab/dic/ipadic/Interjection.csv ... 252\n",
            "reading /usr/share/mecab/dic/ipadic/Noun.name.csv ... 34202\n",
            "reading /usr/share/mecab/dic/ipadic/Symbol.csv ... 208\n",
            "reading /usr/share/mecab/dic/ipadic/Verb.csv ... 130750\n",
            "reading /usr/share/mecab/dic/ipadic/Noun.proper.csv ... 27327\n",
            "reading /usr/share/mecab/dic/ipadic/Auxil.csv ... 199\n",
            "reading /usr/share/mecab/dic/ipadic/Noun.org.csv ... 16668\n",
            "reading /usr/share/mecab/dic/ipadic/Noun.nai.csv ... 42\n",
            "reading /usr/share/mecab/dic/ipadic/Conjunction.csv ... 171\n",
            "reading /usr/share/mecab/dic/ipadic/Postp-col.csv ... 91\n",
            "reading /usr/share/mecab/dic/ipadic/Prefix.csv ... 221\n",
            "reading /usr/share/mecab/dic/ipadic/Adnominal.csv ... 135\n",
            "emitting double-array: 100% |###########################################| \n",
            "reading /usr/share/mecab/dic/ipadic/matrix.def ... 1316x1316\n",
            "emitting matrix      : 100% |###########################################| \n",
            "\n",
            "done!\n",
            "Setting up mecab-jumandic (7.0-20130310-4) ...\n",
            "Processing triggers for man-db (2.8.3-2ubuntu0.1) ...\n",
            "Processing triggers for libc-bin (2.27-3ubuntu1.3) ...\n",
            "/sbin/ldconfig.real: /usr/local/lib/python3.7/dist-packages/ideep4py/lib/libmkldnn.so.0 is not a symbolic link\n",
            "\n",
            "                            \n",
            "Current status: 41 (-1) upgradable.\n",
            "Collecting mecab-python3==0.7\n",
            "  Downloading mecab-python3-0.7.tar.gz (41 kB)\n",
            "\u001b[K     |████████████████████████████████| 41 kB 366 kB/s \n",
            "\u001b[?25hBuilding wheels for collected packages: mecab-python3\n",
            "  Building wheel for mecab-python3 (setup.py) ... \u001b[?25l\u001b[?25hdone\n",
            "  Created wheel for mecab-python3: filename=mecab_python3-0.7-cp37-cp37m-linux_x86_64.whl size=156608 sha256=d28a698e71556a47f3db32b46b528cb809be7535309f7463f5a14fc606a5f45a\n",
            "  Stored in directory: /root/.cache/pip/wheels/47/46/95/3748ec2c4936cb69ee4d248a85e862064ea1e84819344c5292\n",
            "Successfully built mecab-python3\n",
            "Installing collected packages: mecab-python3\n",
            "Successfully installed mecab-python3-0.7\n"
          ]
        }
      ]
    },
    {
      "cell_type": "code",
      "source": [
        "!pip3 install torch torchvision torchaudio"
      ],
      "metadata": {
        "colab": {
          "base_uri": "https://localhost:8080/"
        },
        "id": "8oLg7PAodBRb",
        "outputId": "0a2805e3-f305-42af-b5d9-530200d9b499"
      },
      "execution_count": 2,
      "outputs": [
        {
          "output_type": "stream",
          "name": "stdout",
          "text": [
            "Requirement already satisfied: torch in /usr/local/lib/python3.7/dist-packages (1.11.0+cu113)\n",
            "Requirement already satisfied: torchvision in /usr/local/lib/python3.7/dist-packages (0.12.0+cu113)\n",
            "Requirement already satisfied: torchaudio in /usr/local/lib/python3.7/dist-packages (0.11.0+cu113)\n",
            "Requirement already satisfied: typing-extensions in /usr/local/lib/python3.7/dist-packages (from torch) (4.2.0)\n",
            "Requirement already satisfied: numpy in /usr/local/lib/python3.7/dist-packages (from torchvision) (1.21.6)\n",
            "Requirement already satisfied: requests in /usr/local/lib/python3.7/dist-packages (from torchvision) (2.23.0)\n",
            "Requirement already satisfied: pillow!=8.3.*,>=5.3.0 in /usr/local/lib/python3.7/dist-packages (from torchvision) (7.1.2)\n",
            "Requirement already satisfied: idna<3,>=2.5 in /usr/local/lib/python3.7/dist-packages (from requests->torchvision) (2.10)\n",
            "Requirement already satisfied: certifi>=2017.4.17 in /usr/local/lib/python3.7/dist-packages (from requests->torchvision) (2021.10.8)\n",
            "Requirement already satisfied: urllib3!=1.25.0,!=1.25.1,<1.26,>=1.21.1 in /usr/local/lib/python3.7/dist-packages (from requests->torchvision) (1.24.3)\n",
            "Requirement already satisfied: chardet<4,>=3.0.2 in /usr/local/lib/python3.7/dist-packages (from requests->torchvision) (3.0.4)\n"
          ]
        }
      ]
    },
    {
      "cell_type": "code",
      "source": [
        "from mlask import MLAsk\n",
        "from collections import defaultdict\n",
        "emotion_analyzer = MLAsk()\n",
        "emotion_analyzer.analyze('こんな朝にはただただ世界が好きでたまらないという気がしない？')"
      ],
      "metadata": {
        "colab": {
          "base_uri": "https://localhost:8080/",
          "height": 374
        },
        "id": "7Om9d0E0YAdK",
        "outputId": "47b4c371-6305-4fe9-a5a6-e5a58404d94f"
      },
      "execution_count": null,
      "outputs": [
        {
          "output_type": "error",
          "ename": "ModuleNotFoundError",
          "evalue": "ignored",
          "traceback": [
            "\u001b[0;31m---------------------------------------------------------------------------\u001b[0m",
            "\u001b[0;31mModuleNotFoundError\u001b[0m                       Traceback (most recent call last)",
            "\u001b[0;32m<ipython-input-1-ab50e2453406>\u001b[0m in \u001b[0;36m<module>\u001b[0;34m()\u001b[0m\n\u001b[0;32m----> 1\u001b[0;31m \u001b[0;32mfrom\u001b[0m \u001b[0mmlask\u001b[0m \u001b[0;32mimport\u001b[0m \u001b[0mMLAsk\u001b[0m\u001b[0;34m\u001b[0m\u001b[0;34m\u001b[0m\u001b[0m\n\u001b[0m\u001b[1;32m      2\u001b[0m \u001b[0;32mfrom\u001b[0m \u001b[0mcollections\u001b[0m \u001b[0;32mimport\u001b[0m \u001b[0mdefaultdict\u001b[0m\u001b[0;34m\u001b[0m\u001b[0;34m\u001b[0m\u001b[0m\n\u001b[1;32m      3\u001b[0m \u001b[0memotion_analyzer\u001b[0m \u001b[0;34m=\u001b[0m \u001b[0mMLAsk\u001b[0m\u001b[0;34m(\u001b[0m\u001b[0;34m)\u001b[0m\u001b[0;34m\u001b[0m\u001b[0;34m\u001b[0m\u001b[0m\n\u001b[1;32m      4\u001b[0m \u001b[0memotion_analyzer\u001b[0m\u001b[0;34m.\u001b[0m\u001b[0manalyze\u001b[0m\u001b[0;34m(\u001b[0m\u001b[0;34m'こんな朝にはただただ世界が好きでたまらないという気がしない？'\u001b[0m\u001b[0;34m)\u001b[0m\u001b[0;34m\u001b[0m\u001b[0;34m\u001b[0m\u001b[0m\n",
            "\u001b[0;31mModuleNotFoundError\u001b[0m: No module named 'mlask'",
            "",
            "\u001b[0;31m---------------------------------------------------------------------------\u001b[0;32m\nNOTE: If your import is failing due to a missing package, you can\nmanually install dependencies using either !pip or !apt.\n\nTo view examples of installing some common dependencies, click the\n\"Open Examples\" button below.\n\u001b[0;31m---------------------------------------------------------------------------\u001b[0m\n"
          ],
          "errorDetails": {
            "actions": [
              {
                "action": "open_url",
                "actionText": "Open Examples",
                "url": "/notebooks/snippets/importing_libraries.ipynb"
              }
            ]
          }
        }
      ]
    },
    {
      "cell_type": "code",
      "source": [
        "{'activation': 'NEUTRAL',\n",
        " 'emoticon': None,\n",
        " 'emotion': defaultdict(list, {'suki': ['好き']}),\n",
        " 'intensifier': {},\n",
        " 'intension': 0,\n",
        " 'orientation': 'POSITIVE',\n",
        " 'representative': ('suki', ['好き']),\n",
        " 'text': 'こんな朝にはただただ世界が好きでたまらないという気がしない？'}"
      ],
      "metadata": {
        "colab": {
          "base_uri": "https://localhost:8080/"
        },
        "id": "JeRlYr0MYC2b",
        "outputId": "98d48970-0f1d-40d0-efc8-0a7be678940d"
      },
      "execution_count": null,
      "outputs": [
        {
          "output_type": "execute_result",
          "data": {
            "text/plain": [
              "{'activation': 'NEUTRAL',\n",
              " 'emoticon': None,\n",
              " 'emotion': defaultdict(list, {'suki': ['好き']}),\n",
              " 'intensifier': {},\n",
              " 'intension': 0,\n",
              " 'orientation': 'POSITIVE',\n",
              " 'representative': ('suki', ['好き']),\n",
              " 'text': 'こんな朝にはただただ世界が好きでたまらないという気がしない？'}"
            ]
          },
          "metadata": {},
          "execution_count": 6
        }
      ]
    },
    {
      "cell_type": "code",
      "source": [
        "emotion_analyzer.analyze('ああ、生きているってありがたいこと。家へ帰るってうれしいものね')"
      ],
      "metadata": {
        "colab": {
          "base_uri": "https://localhost:8080/"
        },
        "id": "MW4DlZjuYrIL",
        "outputId": "b4f56803-2277-41ea-ff72-88f473a8b069"
      },
      "execution_count": null,
      "outputs": [
        {
          "output_type": "execute_result",
          "data": {
            "text/plain": [
              "{'activation': 'NEUTRAL',\n",
              " 'emoticon': None,\n",
              " 'emotion': defaultdict(list, {'yorokobi': ['ありがたい', 'うれしい']}),\n",
              " 'intensifier': {'interjections': ['ああ']},\n",
              " 'intension': 1,\n",
              " 'orientation': 'POSITIVE',\n",
              " 'representative': ('yorokobi', ['ありがたい', 'うれしい']),\n",
              " 'text': 'ああ、生きているってありがたいこと。家へ帰るってうれしいものね'}"
            ]
          },
          "metadata": {},
          "execution_count": 7
        }
      ]
    },
    {
      "cell_type": "markdown",
      "source": [
        ""
      ],
      "metadata": {
        "id": "B5tK0rVhY3LA"
      }
    },
    {
      "cell_type": "code",
      "source": [
        "emotion_analyzer.analyze('あんたなんか大嫌いだわ！あんたみたいに下品で、失礼で、心無しの人、見たこともないわ！')"
      ],
      "metadata": {
        "colab": {
          "base_uri": "https://localhost:8080/"
        },
        "id": "X-U5Sp9pZYV0",
        "outputId": "76b551bb-f82b-47c6-e706-596d92b98b63"
      },
      "execution_count": null,
      "outputs": [
        {
          "output_type": "execute_result",
          "data": {
            "text/plain": [
              "{'activation': 'NEUTRAL',\n",
              " 'emoticon': None,\n",
              " 'emotion': defaultdict(list, {'iya': ['下品', '大嫌い']}),\n",
              " 'intensifier': {'exclamation': ['！'], 'interjections': ['なんか']},\n",
              " 'intension': 2,\n",
              " 'orientation': 'NEGATIVE',\n",
              " 'representative': ('iya', ['下品', '大嫌い']),\n",
              " 'text': 'あんたなんか大嫌いだわ！あんたみたいに下品で、失礼で、心無しの人、見たこともないわ！'}"
            ]
          },
          "metadata": {},
          "execution_count": 9
        }
      ]
    },
    {
      "cell_type": "code",
      "source": [
        "emotion_analyzer.analyze('私は、パンです！')"
      ],
      "metadata": {
        "colab": {
          "base_uri": "https://localhost:8080/"
        },
        "id": "MwkPDzQLaIQC",
        "outputId": "0d74d7b5-848c-443d-8f12-4f7616af87b4"
      },
      "execution_count": null,
      "outputs": [
        {
          "output_type": "execute_result",
          "data": {
            "text/plain": [
              "{'emotion': None, 'text': '私は、パンです！'}"
            ]
          },
          "metadata": {},
          "execution_count": 11
        }
      ]
    },
    {
      "cell_type": "markdown",
      "source": [
        "## 課題7の再現　\n"
      ],
      "metadata": {
        "id": "Jsxj8jankEuW"
      }
    },
    {
      "cell_type": "markdown",
      "source": [
        "## 学習用データの作成\n",
        "コードはch06内のコードを流用。"
      ],
      "metadata": {
        "id": "zcOIjbaSx1AG"
      }
    },
    {
      "cell_type": "code",
      "source": [
        "texts=[]\n",
        "filename='/content/drive/MyDrive/Colab Notebooks/AISYS/generatetext/aozora-tiny-wakachiL.txt'\n",
        "modelname='/content/drive/MyDrive/Colab Notebooks/AISYS/generatetext/models/myRnnlm-tiny.pkl'\n",
        "with open(filename, encoding=\"utf-8\") as f:\n",
        "    i=0\n",
        "    j=0\n",
        "    for line in f:\n",
        "        if(filename.endswith('csv')):\n",
        "            line = line.replace('\"', '') \t# 「”」を削除\n",
        "            line = line.replace('　', '') \t# 「全角スペース」を削除\n",
        "            line = line.replace(',,', ',') \t# 削除の結果、空になる部分を削除\n",
        "        texts.append(line.split(\",\")[:-1])\n",
        "        i=i+1\n",
        "        j=j+len(line.split(\",\")[:-1])\n",
        "        if(i%100000==1):\n",
        "            print(i,texts[-1])\n",
        "\n",
        "print(i,\"lines\",j,\"words loaded\")\n",
        "\n",
        "import numpy as np\n",
        "def text_to_id(texts):\n",
        "    word_to_id = {}\n",
        "    id_to_word = {}\n",
        "    allwords=[]\n",
        "    for words in texts:\n",
        "        allwords.extend(words)\n",
        "        for word in words:\n",
        "            if word not in word_to_id:\n",
        "                new_id = len(word_to_id)\n",
        "                word_to_id[word] = new_id\n",
        "                id_to_word[new_id] = word\n",
        "    corpus = np.array([word_to_id[w] for w in allwords])\n",
        "    return corpus, word_to_id, id_to_word\n",
        "\n",
        "print(texts[:5])\n",
        "corpus, word_to_id, id_to_word = text_to_id(texts)\n",
        "corpus, corpus_test = np.split(corpus, [int(len(corpus)*0.9)])\n",
        "print(len(word_to_id),\"kind of words in the corpus,\", len(corpus),\"words\",len(corpus),\"in train\",len(corpus_test),\"in test\")"
      ],
      "metadata": {
        "colab": {
          "base_uri": "https://localhost:8080/"
        },
        "id": "LNgiG4lkzmHu",
        "outputId": "4ed6ba1d-c900-4f45-fa04-53611243cfc1"
      },
      "execution_count": 5,
      "outputs": [
        {
          "output_type": "stream",
          "name": "stdout",
          "text": [
            "1 ['銭形', '平次', '捕物', '控']\n",
            "39550 lines 1001408 words loaded\n",
            "[['銭形', '平次', '捕物', '控'], ['金色', 'の', '処女'], ['野村', '胡堂'], ['これ', 'は', '銭形', '平次', 'の', '最初', 'の', '手柄', '話', 'だ', '、', 'この', '事件', 'が', '平次', 'を', '有名', 'だ', 'する', 'た', 'の', 'です', '。'], ['この', '頃', 'お静', 'は', 'まだ', '平次', 'の', '女房', 'に', 'なる', 'て', 'いる', 'ず', '、', 'ガラッ', '八', 'も', '現われる', 'て', 'は', 'おる', 'ます', 'ぬ', '。']]\n",
            "38470 kind of words in the corpus, 901267 words 901267 in train 100141 in test\n"
          ]
        }
      ]
    },
    {
      "cell_type": "code",
      "source": [
        "import sys\n",
        "import pprint\n",
        "sys.path.append('/content/drive/MyDrive/Colab Notebooks/AISYS/generatetext')\n",
        "pprint.pprint(sys.path)\n",
        "\n",
        "from common.optimizer import SGD\n",
        "from common.trainer import RnnlmTrainer\n",
        "from common.util import eval_perplexity\n",
        "from dataset import ptb\n",
        "from LIB.rnnlm import Rnnlm\n",
        "\n",
        "# ハイパーパラメータの設定\n",
        "batch_size = 20\n",
        "wordvec_size = 100\n",
        "hidden_size = 100  # RNNの隠れ状態ベクトルの要素数\n",
        "time_size = 35  # RNNを展開するサイズ\n",
        "lr = 20.0\n",
        "max_epoch = 4\n",
        "max_grad = 0.25\n",
        "\n",
        "# 学習データの読み込み\n",
        "vocab_size = len(word_to_id)\n",
        "print(\"vocab_size=\",vocab_size,\"wordvec_size=\",wordvec_size)\n",
        "xs = corpus[:-1]\n",
        "ts = corpus[1:]\n",
        "\n",
        "# モデルの生成\n",
        "model = Rnnlm(vocab_size, wordvec_size, hidden_size)\n",
        "optimizer = SGD(lr)\n",
        "trainer = RnnlmTrainer(model, optimizer)\n",
        "\n",
        "# 勾配クリッピングを適用して学習\n",
        "trainer.fit(xs, ts, max_epoch, batch_size, time_size, max_grad,\n",
        "            eval_interval=20)\n",
        "trainer.plot(ylim=(0, 500))\n",
        "\n",
        "# テストデータで評価\n",
        "model.reset_state()\n",
        "ppl_test = eval_perplexity(model, corpus_test)\n",
        "print('test perplexity: ', ppl_test)\n",
        "\n",
        "# パラメータの保存\n",
        "model.save_params(modelname)\n"
      ],
      "metadata": {
        "colab": {
          "base_uri": "https://localhost:8080/",
          "height": 1000
        },
        "id": "bdWrT0d2agpY",
        "outputId": "63447586-73b2-4076-b48b-5ea7315e8d71"
      },
      "execution_count": 6,
      "outputs": [
        {
          "output_type": "stream",
          "name": "stdout",
          "text": [
            "['',\n",
            " '/content',\n",
            " '/env/python',\n",
            " '/usr/lib/python37.zip',\n",
            " '/usr/lib/python3.7',\n",
            " '/usr/lib/python3.7/lib-dynload',\n",
            " '/usr/local/lib/python3.7/dist-packages',\n",
            " '/usr/lib/python3/dist-packages',\n",
            " '/usr/local/lib/python3.7/dist-packages/IPython/extensions',\n",
            " '/root/.ipython',\n",
            " '/content/drive/MyDrive/Colab Notebooks/AISYS/generatetext',\n",
            " '..',\n",
            " '..',\n",
            " '..',\n",
            " '..',\n",
            " '/content/drive/MyDrive/Colab Notebooks/AISYS/generatetext',\n",
            " '..',\n",
            " '..',\n",
            " '/content/drive/MyDrive/Colab Notebooks/AISYS/generatetext',\n",
            " '/content/drive/MyDrive/Colab Notebooks/AISYS/generatetext']\n",
            "vocab_size= 38470 wordvec_size= 100\n",
            "| epoch 1 |  iter 1 / 1287 | time 0[s] | perplexity 38468.68\n",
            "| epoch 1 |  iter 21 / 1287 | time 13[s] | perplexity 5362.85\n",
            "| epoch 1 |  iter 41 / 1287 | time 26[s] | perplexity 1367.17\n",
            "| epoch 1 |  iter 61 / 1287 | time 40[s] | perplexity 944.24\n",
            "| epoch 1 |  iter 81 / 1287 | time 53[s] | perplexity 704.06\n",
            "| epoch 1 |  iter 101 / 1287 | time 66[s] | perplexity 617.45\n",
            "| epoch 1 |  iter 121 / 1287 | time 79[s] | perplexity 452.35\n",
            "| epoch 1 |  iter 141 / 1287 | time 92[s] | perplexity 423.24\n",
            "| epoch 1 |  iter 161 / 1287 | time 105[s] | perplexity 349.92\n",
            "| epoch 1 |  iter 181 / 1287 | time 118[s] | perplexity 312.78\n",
            "| epoch 1 |  iter 201 / 1287 | time 131[s] | perplexity 304.20\n",
            "| epoch 1 |  iter 221 / 1287 | time 144[s] | perplexity 341.38\n",
            "| epoch 1 |  iter 241 / 1287 | time 157[s] | perplexity 323.25\n",
            "| epoch 1 |  iter 261 / 1287 | time 170[s] | perplexity 268.15\n",
            "| epoch 1 |  iter 281 / 1287 | time 183[s] | perplexity 251.36\n",
            "| epoch 1 |  iter 301 / 1287 | time 197[s] | perplexity 233.16\n",
            "| epoch 1 |  iter 321 / 1287 | time 210[s] | perplexity 209.99\n",
            "| epoch 1 |  iter 341 / 1287 | time 223[s] | perplexity 211.07\n",
            "| epoch 1 |  iter 361 / 1287 | time 236[s] | perplexity 209.70\n",
            "| epoch 1 |  iter 381 / 1287 | time 249[s] | perplexity 201.89\n",
            "| epoch 1 |  iter 401 / 1287 | time 262[s] | perplexity 231.70\n",
            "| epoch 1 |  iter 421 / 1287 | time 275[s] | perplexity 203.10\n",
            "| epoch 1 |  iter 441 / 1287 | time 288[s] | perplexity 192.97\n",
            "| epoch 1 |  iter 461 / 1287 | time 301[s] | perplexity 195.84\n",
            "| epoch 1 |  iter 481 / 1287 | time 314[s] | perplexity 220.29\n",
            "| epoch 1 |  iter 501 / 1287 | time 327[s] | perplexity 203.14\n",
            "| epoch 1 |  iter 521 / 1287 | time 340[s] | perplexity 187.89\n",
            "| epoch 1 |  iter 541 / 1287 | time 354[s] | perplexity 198.14\n",
            "| epoch 1 |  iter 561 / 1287 | time 367[s] | perplexity 194.74\n",
            "| epoch 1 |  iter 581 / 1287 | time 380[s] | perplexity 172.65\n",
            "| epoch 1 |  iter 601 / 1287 | time 393[s] | perplexity 169.16\n",
            "| epoch 1 |  iter 621 / 1287 | time 406[s] | perplexity 174.08\n",
            "| epoch 1 |  iter 641 / 1287 | time 420[s] | perplexity 173.49\n",
            "| epoch 1 |  iter 661 / 1287 | time 433[s] | perplexity 167.48\n",
            "| epoch 1 |  iter 681 / 1287 | time 446[s] | perplexity 178.98\n",
            "| epoch 1 |  iter 701 / 1287 | time 460[s] | perplexity 174.04\n",
            "| epoch 1 |  iter 721 / 1287 | time 477[s] | perplexity 161.62\n",
            "| epoch 1 |  iter 741 / 1287 | time 496[s] | perplexity 179.86\n",
            "| epoch 1 |  iter 761 / 1287 | time 513[s] | perplexity 173.44\n",
            "| epoch 1 |  iter 781 / 1287 | time 531[s] | perplexity 173.50\n",
            "| epoch 1 |  iter 801 / 1287 | time 548[s] | perplexity 151.80\n",
            "| epoch 1 |  iter 821 / 1287 | time 562[s] | perplexity 155.14\n",
            "| epoch 1 |  iter 841 / 1287 | time 575[s] | perplexity 174.67\n",
            "| epoch 1 |  iter 861 / 1287 | time 588[s] | perplexity 168.21\n",
            "| epoch 1 |  iter 881 / 1287 | time 604[s] | perplexity 168.29\n",
            "| epoch 1 |  iter 901 / 1287 | time 618[s] | perplexity 175.28\n",
            "| epoch 1 |  iter 921 / 1287 | time 631[s] | perplexity 184.00\n",
            "| epoch 1 |  iter 941 / 1287 | time 644[s] | perplexity 182.53\n",
            "| epoch 1 |  iter 961 / 1287 | time 658[s] | perplexity 161.97\n",
            "| epoch 1 |  iter 981 / 1287 | time 671[s] | perplexity 152.12\n",
            "| epoch 1 |  iter 1001 / 1287 | time 684[s] | perplexity 138.70\n",
            "| epoch 1 |  iter 1021 / 1287 | time 697[s] | perplexity 153.42\n",
            "| epoch 1 |  iter 1041 / 1287 | time 710[s] | perplexity 138.34\n",
            "| epoch 1 |  iter 1061 / 1287 | time 724[s] | perplexity 154.94\n",
            "| epoch 1 |  iter 1081 / 1287 | time 737[s] | perplexity 147.79\n",
            "| epoch 1 |  iter 1101 / 1287 | time 750[s] | perplexity 128.80\n",
            "| epoch 1 |  iter 1121 / 1287 | time 763[s] | perplexity 146.64\n",
            "| epoch 1 |  iter 1141 / 1287 | time 776[s] | perplexity 142.98\n",
            "| epoch 1 |  iter 1161 / 1287 | time 789[s] | perplexity 148.71\n",
            "| epoch 1 |  iter 1181 / 1287 | time 802[s] | perplexity 157.19\n",
            "| epoch 1 |  iter 1201 / 1287 | time 815[s] | perplexity 150.72\n",
            "| epoch 1 |  iter 1221 / 1287 | time 828[s] | perplexity 139.52\n",
            "| epoch 1 |  iter 1241 / 1287 | time 841[s] | perplexity 139.76\n",
            "| epoch 1 |  iter 1261 / 1287 | time 854[s] | perplexity 149.20\n",
            "| epoch 1 |  iter 1281 / 1287 | time 868[s] | perplexity 146.71\n",
            "| epoch 2 |  iter 1 / 1287 | time 872[s] | perplexity 155.32\n",
            "| epoch 2 |  iter 21 / 1287 | time 885[s] | perplexity 155.49\n",
            "| epoch 2 |  iter 41 / 1287 | time 898[s] | perplexity 151.17\n",
            "| epoch 2 |  iter 61 / 1287 | time 911[s] | perplexity 137.52\n",
            "| epoch 2 |  iter 81 / 1287 | time 924[s] | perplexity 140.56\n",
            "| epoch 2 |  iter 101 / 1287 | time 938[s] | perplexity 136.52\n",
            "| epoch 2 |  iter 121 / 1287 | time 951[s] | perplexity 131.98\n",
            "| epoch 2 |  iter 141 / 1287 | time 964[s] | perplexity 128.93\n",
            "| epoch 2 |  iter 161 / 1287 | time 977[s] | perplexity 119.95\n",
            "| epoch 2 |  iter 181 / 1287 | time 990[s] | perplexity 116.82\n",
            "| epoch 2 |  iter 201 / 1287 | time 1004[s] | perplexity 114.20\n",
            "| epoch 2 |  iter 221 / 1287 | time 1017[s] | perplexity 136.09\n",
            "| epoch 2 |  iter 241 / 1287 | time 1030[s] | perplexity 140.73\n",
            "| epoch 2 |  iter 261 / 1287 | time 1043[s] | perplexity 124.37\n",
            "| epoch 2 |  iter 281 / 1287 | time 1056[s] | perplexity 117.13\n",
            "| epoch 2 |  iter 301 / 1287 | time 1069[s] | perplexity 112.55\n",
            "| epoch 2 |  iter 321 / 1287 | time 1082[s] | perplexity 104.81\n",
            "| epoch 2 |  iter 341 / 1287 | time 1095[s] | perplexity 108.31\n",
            "| epoch 2 |  iter 361 / 1287 | time 1108[s] | perplexity 108.20\n",
            "| epoch 2 |  iter 381 / 1287 | time 1121[s] | perplexity 108.84\n",
            "| epoch 2 |  iter 401 / 1287 | time 1134[s] | perplexity 118.42\n",
            "| epoch 2 |  iter 421 / 1287 | time 1147[s] | perplexity 107.76\n",
            "| epoch 2 |  iter 441 / 1287 | time 1160[s] | perplexity 105.68\n",
            "| epoch 2 |  iter 461 / 1287 | time 1173[s] | perplexity 107.03\n",
            "| epoch 2 |  iter 481 / 1287 | time 1186[s] | perplexity 122.00\n",
            "| epoch 2 |  iter 501 / 1287 | time 1199[s] | perplexity 119.49\n",
            "| epoch 2 |  iter 521 / 1287 | time 1212[s] | perplexity 103.89\n",
            "| epoch 2 |  iter 541 / 1287 | time 1225[s] | perplexity 117.37\n",
            "| epoch 2 |  iter 561 / 1287 | time 1238[s] | perplexity 112.41\n",
            "| epoch 2 |  iter 581 / 1287 | time 1251[s] | perplexity 104.36\n",
            "| epoch 2 |  iter 601 / 1287 | time 1264[s] | perplexity 106.90\n",
            "| epoch 2 |  iter 621 / 1287 | time 1277[s] | perplexity 109.47\n",
            "| epoch 2 |  iter 641 / 1287 | time 1290[s] | perplexity 108.10\n",
            "| epoch 2 |  iter 661 / 1287 | time 1303[s] | perplexity 104.15\n",
            "| epoch 2 |  iter 681 / 1287 | time 1316[s] | perplexity 115.26\n",
            "| epoch 2 |  iter 701 / 1287 | time 1329[s] | perplexity 109.65\n",
            "| epoch 2 |  iter 721 / 1287 | time 1343[s] | perplexity 106.12\n",
            "| epoch 2 |  iter 741 / 1287 | time 1356[s] | perplexity 113.62\n",
            "| epoch 2 |  iter 761 / 1287 | time 1370[s] | perplexity 112.67\n",
            "| epoch 2 |  iter 781 / 1287 | time 1385[s] | perplexity 110.40\n",
            "| epoch 2 |  iter 801 / 1287 | time 1398[s] | perplexity 101.35\n",
            "| epoch 2 |  iter 821 / 1287 | time 1412[s] | perplexity 103.12\n",
            "| epoch 2 |  iter 841 / 1287 | time 1425[s] | perplexity 117.97\n",
            "| epoch 2 |  iter 861 / 1287 | time 1438[s] | perplexity 108.87\n",
            "| epoch 2 |  iter 881 / 1287 | time 1451[s] | perplexity 113.17\n",
            "| epoch 2 |  iter 901 / 1287 | time 1464[s] | perplexity 118.59\n",
            "| epoch 2 |  iter 921 / 1287 | time 1477[s] | perplexity 123.90\n",
            "| epoch 2 |  iter 941 / 1287 | time 1490[s] | perplexity 125.82\n",
            "| epoch 2 |  iter 961 / 1287 | time 1503[s] | perplexity 115.40\n",
            "| epoch 2 |  iter 981 / 1287 | time 1516[s] | perplexity 104.65\n",
            "| epoch 2 |  iter 1001 / 1287 | time 1529[s] | perplexity 96.96\n",
            "| epoch 2 |  iter 1021 / 1287 | time 1542[s] | perplexity 108.28\n",
            "| epoch 2 |  iter 1041 / 1287 | time 1555[s] | perplexity 97.98\n",
            "| epoch 2 |  iter 1061 / 1287 | time 1568[s] | perplexity 110.13\n",
            "| epoch 2 |  iter 1081 / 1287 | time 1581[s] | perplexity 107.35\n",
            "| epoch 2 |  iter 1101 / 1287 | time 1594[s] | perplexity 94.12\n",
            "| epoch 2 |  iter 1121 / 1287 | time 1607[s] | perplexity 103.71\n",
            "| epoch 2 |  iter 1141 / 1287 | time 1620[s] | perplexity 103.82\n",
            "| epoch 2 |  iter 1161 / 1287 | time 1633[s] | perplexity 104.52\n",
            "| epoch 2 |  iter 1181 / 1287 | time 1646[s] | perplexity 115.10\n",
            "| epoch 2 |  iter 1201 / 1287 | time 1659[s] | perplexity 110.76\n",
            "| epoch 2 |  iter 1221 / 1287 | time 1672[s] | perplexity 101.58\n",
            "| epoch 2 |  iter 1241 / 1287 | time 1685[s] | perplexity 102.57\n",
            "| epoch 2 |  iter 1261 / 1287 | time 1698[s] | perplexity 106.92\n",
            "| epoch 2 |  iter 1281 / 1287 | time 1711[s] | perplexity 105.04\n",
            "| epoch 3 |  iter 1 / 1287 | time 1716[s] | perplexity 115.08\n",
            "| epoch 3 |  iter 21 / 1287 | time 1729[s] | perplexity 114.32\n",
            "| epoch 3 |  iter 41 / 1287 | time 1742[s] | perplexity 111.86\n",
            "| epoch 3 |  iter 61 / 1287 | time 1755[s] | perplexity 100.38\n",
            "| epoch 3 |  iter 81 / 1287 | time 1768[s] | perplexity 101.70\n",
            "| epoch 3 |  iter 101 / 1287 | time 1781[s] | perplexity 103.69\n",
            "| epoch 3 |  iter 121 / 1287 | time 1794[s] | perplexity 100.80\n",
            "| epoch 3 |  iter 141 / 1287 | time 1808[s] | perplexity 96.18\n",
            "| epoch 3 |  iter 161 / 1287 | time 1821[s] | perplexity 91.04\n",
            "| epoch 3 |  iter 181 / 1287 | time 1834[s] | perplexity 87.97\n",
            "| epoch 3 |  iter 201 / 1287 | time 1847[s] | perplexity 86.98\n",
            "| epoch 3 |  iter 221 / 1287 | time 1860[s] | perplexity 102.54\n",
            "| epoch 3 |  iter 241 / 1287 | time 1873[s] | perplexity 107.25\n",
            "| epoch 3 |  iter 261 / 1287 | time 1886[s] | perplexity 97.29\n",
            "| epoch 3 |  iter 281 / 1287 | time 1899[s] | perplexity 89.77\n",
            "| epoch 3 |  iter 301 / 1287 | time 1912[s] | perplexity 89.14\n",
            "| epoch 3 |  iter 321 / 1287 | time 1925[s] | perplexity 81.78\n",
            "| epoch 3 |  iter 341 / 1287 | time 1938[s] | perplexity 83.91\n",
            "| epoch 3 |  iter 361 / 1287 | time 1951[s] | perplexity 84.01\n",
            "| epoch 3 |  iter 381 / 1287 | time 1964[s] | perplexity 84.02\n",
            "| epoch 3 |  iter 401 / 1287 | time 1977[s] | perplexity 91.68\n",
            "| epoch 3 |  iter 421 / 1287 | time 1990[s] | perplexity 84.21\n",
            "| epoch 3 |  iter 441 / 1287 | time 2003[s] | perplexity 83.44\n",
            "| epoch 3 |  iter 461 / 1287 | time 2016[s] | perplexity 85.33\n",
            "| epoch 3 |  iter 481 / 1287 | time 2029[s] | perplexity 94.52\n",
            "| epoch 3 |  iter 501 / 1287 | time 2042[s] | perplexity 92.55\n",
            "| epoch 3 |  iter 521 / 1287 | time 2055[s] | perplexity 83.13\n",
            "| epoch 3 |  iter 541 / 1287 | time 2068[s] | perplexity 92.37\n",
            "| epoch 3 |  iter 561 / 1287 | time 2081[s] | perplexity 89.57\n",
            "| epoch 3 |  iter 581 / 1287 | time 2094[s] | perplexity 81.79\n",
            "| epoch 3 |  iter 601 / 1287 | time 2107[s] | perplexity 84.51\n",
            "| epoch 3 |  iter 621 / 1287 | time 2120[s] | perplexity 86.74\n",
            "| epoch 3 |  iter 641 / 1287 | time 2133[s] | perplexity 86.52\n",
            "| epoch 3 |  iter 661 / 1287 | time 2146[s] | perplexity 82.90\n",
            "| epoch 3 |  iter 681 / 1287 | time 2159[s] | perplexity 91.02\n",
            "| epoch 3 |  iter 701 / 1287 | time 2172[s] | perplexity 88.77\n",
            "| epoch 3 |  iter 721 / 1287 | time 2185[s] | perplexity 84.89\n",
            "| epoch 3 |  iter 741 / 1287 | time 2198[s] | perplexity 90.04\n",
            "| epoch 3 |  iter 761 / 1287 | time 2211[s] | perplexity 87.98\n",
            "| epoch 3 |  iter 781 / 1287 | time 2224[s] | perplexity 89.29\n",
            "| epoch 3 |  iter 801 / 1287 | time 2238[s] | perplexity 80.22\n",
            "| epoch 3 |  iter 821 / 1287 | time 2251[s] | perplexity 82.90\n",
            "| epoch 3 |  iter 841 / 1287 | time 2265[s] | perplexity 93.50\n",
            "| epoch 3 |  iter 861 / 1287 | time 2282[s] | perplexity 88.39\n",
            "| epoch 3 |  iter 881 / 1287 | time 2299[s] | perplexity 91.42\n",
            "| epoch 3 |  iter 901 / 1287 | time 2314[s] | perplexity 95.88\n",
            "| epoch 3 |  iter 921 / 1287 | time 2328[s] | perplexity 98.24\n",
            "| epoch 3 |  iter 941 / 1287 | time 2342[s] | perplexity 101.43\n",
            "| epoch 3 |  iter 961 / 1287 | time 2355[s] | perplexity 91.17\n",
            "| epoch 3 |  iter 981 / 1287 | time 2368[s] | perplexity 84.22\n",
            "| epoch 3 |  iter 1001 / 1287 | time 2381[s] | perplexity 78.39\n",
            "| epoch 3 |  iter 1021 / 1287 | time 2394[s] | perplexity 87.73\n",
            "| epoch 3 |  iter 1041 / 1287 | time 2407[s] | perplexity 78.15\n",
            "| epoch 3 |  iter 1061 / 1287 | time 2420[s] | perplexity 91.74\n",
            "| epoch 3 |  iter 1081 / 1287 | time 2433[s] | perplexity 86.37\n",
            "| epoch 3 |  iter 1101 / 1287 | time 2446[s] | perplexity 75.34\n",
            "| epoch 3 |  iter 1121 / 1287 | time 2459[s] | perplexity 81.15\n",
            "| epoch 3 |  iter 1141 / 1287 | time 2472[s] | perplexity 84.53\n",
            "| epoch 3 |  iter 1161 / 1287 | time 2485[s] | perplexity 85.18\n",
            "| epoch 3 |  iter 1181 / 1287 | time 2499[s] | perplexity 91.20\n",
            "| epoch 3 |  iter 1201 / 1287 | time 2512[s] | perplexity 88.92\n",
            "| epoch 3 |  iter 1221 / 1287 | time 2525[s] | perplexity 82.52\n",
            "| epoch 3 |  iter 1241 / 1287 | time 2538[s] | perplexity 83.52\n",
            "| epoch 3 |  iter 1261 / 1287 | time 2551[s] | perplexity 84.04\n",
            "| epoch 3 |  iter 1281 / 1287 | time 2564[s] | perplexity 88.09\n",
            "| epoch 4 |  iter 1 / 1287 | time 2569[s] | perplexity 95.71\n",
            "| epoch 4 |  iter 21 / 1287 | time 2582[s] | perplexity 91.09\n",
            "| epoch 4 |  iter 41 / 1287 | time 2595[s] | perplexity 90.55\n",
            "| epoch 4 |  iter 61 / 1287 | time 2608[s] | perplexity 79.82\n",
            "| epoch 4 |  iter 81 / 1287 | time 2621[s] | perplexity 81.86\n",
            "| epoch 4 |  iter 101 / 1287 | time 2634[s] | perplexity 84.95\n",
            "| epoch 4 |  iter 121 / 1287 | time 2647[s] | perplexity 82.76\n",
            "| epoch 4 |  iter 141 / 1287 | time 2660[s] | perplexity 79.33\n",
            "| epoch 4 |  iter 161 / 1287 | time 2673[s] | perplexity 75.16\n",
            "| epoch 4 |  iter 181 / 1287 | time 2686[s] | perplexity 72.94\n",
            "| epoch 4 |  iter 201 / 1287 | time 2699[s] | perplexity 71.61\n",
            "| epoch 4 |  iter 221 / 1287 | time 2712[s] | perplexity 84.38\n",
            "| epoch 4 |  iter 241 / 1287 | time 2725[s] | perplexity 87.84\n",
            "| epoch 4 |  iter 261 / 1287 | time 2738[s] | perplexity 80.63\n",
            "| epoch 4 |  iter 281 / 1287 | time 2751[s] | perplexity 74.96\n",
            "| epoch 4 |  iter 301 / 1287 | time 2764[s] | perplexity 74.75\n",
            "| epoch 4 |  iter 321 / 1287 | time 2777[s] | perplexity 68.73\n",
            "| epoch 4 |  iter 341 / 1287 | time 2790[s] | perplexity 71.39\n",
            "| epoch 4 |  iter 361 / 1287 | time 2804[s] | perplexity 72.30\n",
            "| epoch 4 |  iter 381 / 1287 | time 2817[s] | perplexity 71.48\n",
            "| epoch 4 |  iter 401 / 1287 | time 2830[s] | perplexity 75.99\n",
            "| epoch 4 |  iter 421 / 1287 | time 2843[s] | perplexity 70.89\n",
            "| epoch 4 |  iter 441 / 1287 | time 2856[s] | perplexity 70.59\n",
            "| epoch 4 |  iter 461 / 1287 | time 2869[s] | perplexity 72.19\n",
            "| epoch 4 |  iter 481 / 1287 | time 2882[s] | perplexity 79.02\n",
            "| epoch 4 |  iter 501 / 1287 | time 2895[s] | perplexity 76.70\n",
            "| epoch 4 |  iter 521 / 1287 | time 2908[s] | perplexity 70.62\n",
            "| epoch 4 |  iter 541 / 1287 | time 2922[s] | perplexity 76.68\n",
            "| epoch 4 |  iter 561 / 1287 | time 2936[s] | perplexity 74.75\n",
            "| epoch 4 |  iter 581 / 1287 | time 2950[s] | perplexity 68.32\n",
            "| epoch 4 |  iter 601 / 1287 | time 2963[s] | perplexity 73.33\n",
            "| epoch 4 |  iter 621 / 1287 | time 2976[s] | perplexity 73.50\n",
            "| epoch 4 |  iter 641 / 1287 | time 2990[s] | perplexity 73.15\n",
            "| epoch 4 |  iter 661 / 1287 | time 3007[s] | perplexity 70.00\n",
            "| epoch 4 |  iter 681 / 1287 | time 3021[s] | perplexity 77.77\n",
            "| epoch 4 |  iter 701 / 1287 | time 3034[s] | perplexity 76.28\n",
            "| epoch 4 |  iter 721 / 1287 | time 3048[s] | perplexity 72.72\n",
            "| epoch 4 |  iter 741 / 1287 | time 3061[s] | perplexity 75.49\n",
            "| epoch 4 |  iter 761 / 1287 | time 3074[s] | perplexity 75.80\n",
            "| epoch 4 |  iter 781 / 1287 | time 3088[s] | perplexity 73.42\n",
            "| epoch 4 |  iter 801 / 1287 | time 3101[s] | perplexity 70.01\n",
            "| epoch 4 |  iter 821 / 1287 | time 3114[s] | perplexity 70.68\n",
            "| epoch 4 |  iter 841 / 1287 | time 3127[s] | perplexity 79.16\n",
            "| epoch 4 |  iter 861 / 1287 | time 3141[s] | perplexity 74.47\n",
            "| epoch 4 |  iter 881 / 1287 | time 3154[s] | perplexity 77.03\n",
            "| epoch 4 |  iter 901 / 1287 | time 3167[s] | perplexity 79.38\n",
            "| epoch 4 |  iter 921 / 1287 | time 3180[s] | perplexity 82.67\n",
            "| epoch 4 |  iter 941 / 1287 | time 3193[s] | perplexity 84.92\n",
            "| epoch 4 |  iter 961 / 1287 | time 3206[s] | perplexity 78.70\n",
            "| epoch 4 |  iter 981 / 1287 | time 3219[s] | perplexity 72.47\n",
            "| epoch 4 |  iter 1001 / 1287 | time 3232[s] | perplexity 65.45\n",
            "| epoch 4 |  iter 1021 / 1287 | time 3246[s] | perplexity 75.38\n",
            "| epoch 4 |  iter 1041 / 1287 | time 3259[s] | perplexity 67.83\n",
            "| epoch 4 |  iter 1061 / 1287 | time 3271[s] | perplexity 76.76\n",
            "| epoch 4 |  iter 1081 / 1287 | time 3284[s] | perplexity 74.51\n",
            "| epoch 4 |  iter 1101 / 1287 | time 3298[s] | perplexity 65.41\n",
            "| epoch 4 |  iter 1121 / 1287 | time 3311[s] | perplexity 69.49\n",
            "| epoch 4 |  iter 1141 / 1287 | time 3324[s] | perplexity 72.80\n",
            "| epoch 4 |  iter 1161 / 1287 | time 3337[s] | perplexity 71.27\n",
            "| epoch 4 |  iter 1181 / 1287 | time 3350[s] | perplexity 77.74\n",
            "| epoch 4 |  iter 1201 / 1287 | time 3363[s] | perplexity 75.84\n",
            "| epoch 4 |  iter 1221 / 1287 | time 3376[s] | perplexity 70.69\n",
            "| epoch 4 |  iter 1241 / 1287 | time 3389[s] | perplexity 71.68\n",
            "| epoch 4 |  iter 1261 / 1287 | time 3402[s] | perplexity 70.91\n",
            "| epoch 4 |  iter 1281 / 1287 | time 3415[s] | perplexity 74.57\n"
          ]
        },
        {
          "output_type": "display_data",
          "data": {
            "text/plain": [
              "<Figure size 432x288 with 1 Axes>"
            ],
            "image/png": "[encoded data removed]"
          },
          "metadata": {
            "needs_background": "light"
          }
        },
        {
          "output_type": "stream",
          "name": "stdout",
          "text": [
            "evaluating perplexity ...\n",
            "285 / 286\n",
            "test perplexity:  148.03498384377355\n"
          ]
        }
      ]
    },
    {
      "cell_type": "markdown",
      "source": [
        "## 文章生成\n",
        "コードはch07から流用"
      ],
      "metadata": {
        "id": "KMQ9GrhWx7TB"
      }
    },
    {
      "cell_type": "code",
      "source": [
        "texts=[]\n",
        "# filename='../aozora-tiny-wakachiL.txt'\n",
        "# modelname='../models/myRnnlm-tiny.pkl'\n",
        "filename='/content/drive/MyDrive/Colab Notebooks/AISYS/generatetext/aozora-tiny-wakachiL.txt'\n",
        "modelname='/content/drive/MyDrive/Colab Notebooks/AISYS/generatetext/models/myRnnlm-tiny.pkl'\n",
        "with open(filename, encoding=\"utf-8\") as f:\n",
        "    i=0\n",
        "    j=0\n",
        "    for line in f:\n",
        "        if(filename.endswith('csv')):\n",
        "            line = line.replace('\"', '') \t# 「”」を削除\n",
        "            line = line.replace('　', '') \t# 「全角スペース」を削除\n",
        "            line = line.replace(',,', ',') \t# 削除の結果、空になる部分を削除\n",
        "\n",
        "        texts.append(line.split(\",\")[:-1])\n",
        "        i=i+1\n",
        "        j=j+len(line.split(\",\")[:-1])\n",
        "        if(i%100000==1):\n",
        "            print(i,texts[-1])\n",
        "\n",
        "print(i,\"lines\",j,\"words loaded\")"
      ],
      "metadata": {
        "colab": {
          "base_uri": "https://localhost:8080/"
        },
        "id": "Yb6NiSp7yEhD",
        "outputId": "d5415fbc-a7b1-40ed-e4d9-ab7a112a056b"
      },
      "execution_count": 9,
      "outputs": [
        {
          "output_type": "stream",
          "name": "stdout",
          "text": [
            "1 ['銭形', '平次', '捕物', '控']\n",
            "39550 lines 1001408 words loaded\n"
          ]
        }
      ]
    },
    {
      "cell_type": "code",
      "source": [
        "import numpy as np\n",
        "def text_to_id(texts):\n",
        "    word_to_id = {}\n",
        "    id_to_word = {}\n",
        "    allwords=[]\n",
        "    for words in texts:\n",
        "        allwords.extend(words)\n",
        "        for word in words:\n",
        "            if word not in word_to_id:\n",
        "                new_id = len(word_to_id)\n",
        "                word_to_id[word] = new_id\n",
        "                id_to_word[new_id] = word\n",
        "    corpus = np.array([word_to_id[w] for w in allwords])\n",
        "    return corpus, word_to_id, id_to_word\n",
        "\n",
        "print(texts[:5])\n",
        "corpus, word_to_id, id_to_word = text_to_id(texts)\n",
        "corpus, corpus_test = np.split(corpus, [int(len(corpus)*0.9)])\n",
        "print(len(word_to_id),\"kind of words in the corpus,\", len(corpus),\"words\",len(corpus),\"in train\",len(corpus_test),\"in test\")"
      ],
      "metadata": {
        "colab": {
          "base_uri": "https://localhost:8080/"
        },
        "id": "GyiqCemoy0Wg",
        "outputId": "cb04b122-e850-4a2e-ae1b-c0bac0bdcf5f"
      },
      "execution_count": 10,
      "outputs": [
        {
          "output_type": "stream",
          "name": "stdout",
          "text": [
            "[['銭形', '平次', '捕物', '控'], ['金色', 'の', '処女'], ['野村', '胡堂'], ['これ', 'は', '銭形', '平次', 'の', '最初', 'の', '手柄', '話', 'だ', '、', 'この', '事件', 'が', '平次', 'を', '有名', 'だ', 'する', 'た', 'の', 'です', '。'], ['この', '頃', 'お静', 'は', 'まだ', '平次', 'の', '女房', 'に', 'なる', 'て', 'いる', 'ず', '、', 'ガラッ', '八', 'も', '現われる', 'て', 'は', 'おる', 'ます', 'ぬ', '。']]\n",
            "38470 kind of words in the corpus, 901267 words 901267 in train 100141 in test\n"
          ]
        }
      ]
    },
    {
      "cell_type": "code",
      "source": [
        "# coding: utf-8\n",
        "import sys\n",
        "sys.path.append('/content/drive/MyDrive/Colab Notebooks/AISYS/generatetext')\n",
        "from LIB.rnnlm_gen import RnnlmGen\n",
        "from dataset import ptb\n",
        "\n",
        "\n",
        "#corpus, word_to_id, id_to_word = ptb.load_data('train')\n",
        "vocab_size = len(word_to_id)\n",
        "corpus_size = len(corpus)\n",
        "print(vocab_size,corpus_size)\n",
        "\n",
        "model = RnnlmGen(vocab_size=vocab_size, wordvec_size=100, hidden_size=100)\n",
        "model.load_params(modelname)\n",
        "\n",
        "# start文字とskip文字の設定\n",
        "#前のカラムで生成したキーワードから指定する。\n",
        "start_word = '平次'\n",
        "start_id = word_to_id[start_word]\n",
        "#skip_words = ['N', '<unk>', '$']\n",
        "skip_words = [\"　\"]\n",
        "skip_ids = [word_to_id[w] for w in skip_words]\n",
        "# 文章生成\n",
        "word_ids = model.generate(start_id, skip_ids)\n",
        "txt = '/'.join([id_to_word[i] for i in word_ids])\n",
        "txt = txt.replace(' <eos>', '.\\n')\n",
        "print(txt)"
      ],
      "metadata": {
        "colab": {
          "base_uri": "https://localhost:8080/"
        },
        "id": "PUBA_Qwby3-R",
        "outputId": "5c93bd74-5285-4505-b342-5519f4561c76"
      },
      "execution_count": 12,
      "outputs": [
        {
          "output_type": "stream",
          "name": "stdout",
          "text": [
            "38470 901267\n",
            "平次/の/其方/を/見る/すべて/マゴコロ/』/と/いう/づけ/深い/二人/、/気/が/付く/た/事/も/わかる/ない/。/一昨/通り/、/二十三/日/を/始め/に/載せる/ながら/、/二人/の/口/から/やれる/と/、/「/大丈夫/です/ね/」/「/どう/する/た/ぞ/」/「/坊や/に/シェラン/咨嘆/が/ない/が/柳原/だ/する/て/、/ねじあげる/られる/た/よう/だ/思う/られる/ん/だ/。/どう/か/な/そう/だ/の/ね/な/」/と/見上げる/た/。/その/妙/だ/指導者/を/、/一人/と/小幡/の/悔悟/や\n"
          ]
        }
      ]
    },
    {
      "cell_type": "markdown",
      "source": [
        "#                ↓↓↓↓↓↓↓↓↓↓↓↓↓**共感チャットボットの作成**↓↓↓↓↓↓↓↓↓↓↓↓↓↓\n"
      ],
      "metadata": {
        "id": "Mfcbmesg65t3"
      }
    },
    {
      "cell_type": "markdown",
      "source": [
        "## チャットボット用ライブラリのインポート"
      ],
      "metadata": {
        "id": "-9pVPgbPAhwS"
      }
    },
    {
      "cell_type": "code",
      "source": [
        "import numpy as np\n",
        "import sys\n",
        "sys.path.append('/content/drive/MyDrive/Colab Notebooks/AISYS/generatetext')\n",
        "from LIB.rnnlm_gen import RnnlmGen\n",
        "from dataset import ptb"
      ],
      "metadata": {
        "id": "S5ZoYDudAtNF"
      },
      "execution_count": 1,
      "outputs": []
    },
    {
      "cell_type": "markdown",
      "source": [
        "## チャットボット用の関数定義"
      ],
      "metadata": {
        "id": "KxnIAJUn1NNM"
      }
    },
    {
      "cell_type": "markdown",
      "source": [
        "### 関数一覧\n",
        "・入力内容をファイルに保存する関数(InputToFile)\\\n",
        "・ファイルの内容を学習させる関数(LearningText)\\\n",
        "・学習内容をもとに文章生成する関数(CreateText)"
      ],
      "metadata": {
        "id": "m8BKLOZj1amd"
      }
    },
    {
      "cell_type": "code",
      "source": [
        "def text_to_id(texts):\n",
        "    word_to_id = {}\n",
        "    id_to_word = {}\n",
        "    allwords=[]\n",
        "    for words in texts:\n",
        "        allwords.extend(words)\n",
        "        for word in words:\n",
        "            if word not in word_to_id:\n",
        "                new_id = len(word_to_id)\n",
        "                word_to_id[word] = new_id\n",
        "                id_to_word[new_id] = word\n",
        "    corpus = np.array([word_to_id[w] for w in allwords])\n",
        "    return corpus, word_to_id, id_to_word"
      ],
      "metadata": {
        "id": "R8Lo9pqwCe4v"
      },
      "execution_count": 5,
      "outputs": []
    },
    {
      "cell_type": "code",
      "source": [
        "def CreateText():\n",
        "  #LIBのimport\n",
        "  # import numpy as np\n",
        "  # import sys\n",
        "  # sys.path.append('/content/drive/MyDrive/Colab Notebooks/AISYS/generatetext')\n",
        "  # from LIB.rnnlm_gen import RnnlmGen\n",
        "  # from dataset import ptb\n",
        "  texts=[]\n",
        "  filename='/content/drive/MyDrive/Colab Notebooks/AISYS/generatetext/aozora-tiny-wakachiL.txt'\n",
        "  modelname='/content/drive/MyDrive/Colab Notebooks/AISYS/generatetext/models/myRnnlm-tiny.pkl'\n",
        "  #文章生成　1/3セルの内容\n",
        "  with open(filename, encoding=\"utf-8\") as f:\n",
        "      i=0\n",
        "      j=0\n",
        "      for line in f:\n",
        "          if(filename.endswith('csv')):\n",
        "            line = line.replace('\"', '') \t# 「”」を削除\n",
        "            line = line.replace('　', '') \t# 「全角スペース」を削除\n",
        "            line = line.replace('”','')\n",
        "            line = line.replace(' ','')\n",
        "            line = line.replace('…','')\n",
        "            line = line.replace('「','')\n",
        "            line = line.replace('」','')\n",
        "            line = line.replace('』','')\n",
        "            line = line.replace('『','')\n",
        "            line = line.replace('（','')\n",
        "            line = line.replace('）','')\n",
        "            line = line.replace('／','')\n",
        "            line = line.replace('》','')\n",
        "            line = line.replace('《','')\n",
        "            line = line.replace(',,', ',') \t# 削除の結果、空になる部分を削除\n",
        "          texts.append(line.split(\",\")[:-1])\n",
        "          i=i+1\n",
        "          j=j+len(line.split(\",\")[:-1])\n",
        "          if(i%100000==1):\n",
        "            print(i,texts[-1])\n",
        "  #print(i,\"lines\",j,\"words loaded\")\n",
        "  #文章生成　2/3セルの内容\n",
        "  # def text_to_id(texts):\n",
        "  #   word_to_id = {}\n",
        "  #   id_to_word = {}\n",
        "  #   allwords=[]\n",
        "  #   for words in texts:\n",
        "  #       allwords.extend(words)\n",
        "  #       for word in words:\n",
        "  #           if word not in word_to_id:\n",
        "  #               new_id = len(word_to_id)\n",
        "  #               word_to_id[word] = new_id\n",
        "  #               id_to_word[new_id] = word\n",
        "  #   corpus = np.array([word_to_id[w] for w in allwords])\n",
        "  #   return corpus, word_to_id, id_to_word\n",
        "\n",
        "  #print(texts[:5])\n",
        "  corpus, word_to_id, id_to_word = text_to_id(texts)\n",
        "  corpus, corpus_test = np.split(corpus, [int(len(corpus)*0.9)])\n",
        "  #print(len(word_to_id),\"kind of words in the corpus,\", len(corpus),\"words\",len(corpus),\"in train\",len(corpus_test),\"in test\")\n",
        "  #文章生成　3/3セルの内容\n",
        "  #corpus, word_to_id, id_to_word = ptb.load_data('train')\n",
        "  vocab_size = len(word_to_id)\n",
        "  corpus_size = len(corpus)\n",
        "  #print(vocab_size,corpus_size)\n",
        "\n",
        "  model = RnnlmGen(vocab_size=vocab_size, wordvec_size=100, hidden_size=100)\n",
        "  model.load_params(modelname)\n",
        "\n",
        "  # start文字とskip文字の設定\n",
        "  #前のカラムで生成したキーワードから指定する。\n",
        "  start_word = '平次'\n",
        "  start_id = word_to_id[start_word]\n",
        "  #skip_words = ['N', '<unk>', '$']\n",
        "  skip_words = [\"　\"]\n",
        "  skip_ids = [word_to_id[w] for w in skip_words]\n",
        "  # 文章生成\n",
        "  word_ids = model.generate(start_id, skip_ids)\n",
        "  txt = '/'.join([id_to_word[i] for i in word_ids])\n",
        "  txt = txt.replace(' <eos>', '.\\n')\n",
        "  print(txt)\n",
        "  return txt"
      ],
      "metadata": {
        "id": "CIY4lb_N2NXf"
      },
      "execution_count": 3,
      "outputs": []
    },
    {
      "cell_type": "code",
      "source": [
        "def LearningText():\n",
        "  # import numpy as np\n",
        "  texts=[]\n",
        "  filename='/content/drive/MyDrive/Colab Notebooks/AISYS/generatetext/aozora-tiny-wakachiL.txt'\n",
        "  modelname='/content/drive/MyDrive/Colab Notebooks/AISYS/generatetext/models/myRnnlm-tiny.pkl'\n",
        "  with open(filename, encoding=\"utf-8\") as f:\n",
        "    i=0\n",
        "    j=0\n",
        "    for line in f:\n",
        "        if(filename.endswith('csv')):\n",
        "            line = line.replace('\"', '') \t# 「”」を削除\n",
        "            line = line.replace('　', '') \t# 「全角スペース」を削除\n",
        "            line = line.replace(',,', ',') \t# 削除の結果、空になる部分を削除\n",
        "        texts.append(line.split(\",\")[:-1])\n",
        "        i=i+1\n",
        "        j=j+len(line.split(\",\")[:-1])\n",
        "        if(i%100000==1):\n",
        "            print(i,texts[-1])\n",
        "\n",
        "  print(i,\"lines\",j,\"words loaded\")\n",
        "\n",
        "  \n",
        "\n",
        "\n",
        "  print(texts[:5])\n",
        "  corpus, word_to_id, id_to_word = text_to_id(texts)\n",
        "  corpus, corpus_test = np.split(corpus, [int(len(corpus)*0.9)])\n",
        "  print(len(word_to_id),\"kind of words in the corpus,\", len(corpus),\"words\",len(corpus),\"in train\",len(corpus_test),\"in test\")"
      ],
      "metadata": {
        "id": "y-PcDGwk_k2i"
      },
      "execution_count": null,
      "outputs": []
    },
    {
      "cell_type": "code",
      "source": [
        "CreateText()"
      ],
      "metadata": {
        "colab": {
          "base_uri": "https://localhost:8080/",
          "height": 308
        },
        "id": "J8Wj_ycJ2_zD",
        "outputId": "8ca94788-ad1a-4686-dc53-42bf84b20b5a"
      },
      "execution_count": 4,
      "outputs": [
        {
          "output_type": "stream",
          "name": "stdout",
          "text": [
            "1 ['銭形', '平次', '捕物', '控']\n"
          ]
        },
        {
          "output_type": "error",
          "ename": "ValueError",
          "evalue": "ignored",
          "traceback": [
            "\u001b[0;31m---------------------------------------------------------------------------\u001b[0m",
            "\u001b[0;31mValueError\u001b[0m                                Traceback (most recent call last)",
            "\u001b[0;32m<ipython-input-4-c47b194d06f3>\u001b[0m in \u001b[0;36m<module>\u001b[0;34m()\u001b[0m\n\u001b[0;32m----> 1\u001b[0;31m \u001b[0mCreateText\u001b[0m\u001b[0;34m(\u001b[0m\u001b[0;34m)\u001b[0m\u001b[0;34m\u001b[0m\u001b[0;34m\u001b[0m\u001b[0m\n\u001b[0m",
            "\u001b[0;32m<ipython-input-3-b7e5171a4f96>\u001b[0m in \u001b[0;36mCreateText\u001b[0;34m()\u001b[0m\n\u001b[1;32m     62\u001b[0m \u001b[0;34m\u001b[0m\u001b[0m\n\u001b[1;32m     63\u001b[0m   \u001b[0mmodel\u001b[0m \u001b[0;34m=\u001b[0m \u001b[0mRnnlmGen\u001b[0m\u001b[0;34m(\u001b[0m\u001b[0mvocab_size\u001b[0m\u001b[0;34m=\u001b[0m\u001b[0mvocab_size\u001b[0m\u001b[0;34m,\u001b[0m \u001b[0mwordvec_size\u001b[0m\u001b[0;34m=\u001b[0m\u001b[0;36m100\u001b[0m\u001b[0;34m,\u001b[0m \u001b[0mhidden_size\u001b[0m\u001b[0;34m=\u001b[0m\u001b[0;36m100\u001b[0m\u001b[0;34m)\u001b[0m\u001b[0;34m\u001b[0m\u001b[0;34m\u001b[0m\u001b[0m\n\u001b[0;32m---> 64\u001b[0;31m   \u001b[0mmodel\u001b[0m\u001b[0;34m.\u001b[0m\u001b[0mload_params\u001b[0m\u001b[0;34m(\u001b[0m\u001b[0mmodelname\u001b[0m\u001b[0;34m)\u001b[0m\u001b[0;34m\u001b[0m\u001b[0;34m\u001b[0m\u001b[0m\n\u001b[0m\u001b[1;32m     65\u001b[0m \u001b[0;34m\u001b[0m\u001b[0m\n\u001b[1;32m     66\u001b[0m   \u001b[0;31m# start文字とskip文字の設定\u001b[0m\u001b[0;34m\u001b[0m\u001b[0;34m\u001b[0m\u001b[0;34m\u001b[0m\u001b[0m\n",
            "\u001b[0;32m/content/drive/MyDrive/Colab Notebooks/AISYS/generatetext/common/base_model.py\u001b[0m in \u001b[0;36mload_params\u001b[0;34m(self, file_name)\u001b[0m\n\u001b[1;32m     47\u001b[0m \u001b[0;34m\u001b[0m\u001b[0m\n\u001b[1;32m     48\u001b[0m         \u001b[0;32mfor\u001b[0m \u001b[0mi\u001b[0m\u001b[0;34m,\u001b[0m \u001b[0mparam\u001b[0m \u001b[0;32min\u001b[0m \u001b[0menumerate\u001b[0m\u001b[0;34m(\u001b[0m\u001b[0mself\u001b[0m\u001b[0;34m.\u001b[0m\u001b[0mparams\u001b[0m\u001b[0;34m)\u001b[0m\u001b[0;34m:\u001b[0m\u001b[0;34m\u001b[0m\u001b[0;34m\u001b[0m\u001b[0m\n\u001b[0;32m---> 49\u001b[0;31m             \u001b[0mparam\u001b[0m\u001b[0;34m[\u001b[0m\u001b[0;34m...\u001b[0m\u001b[0;34m]\u001b[0m \u001b[0;34m=\u001b[0m \u001b[0mparams\u001b[0m\u001b[0;34m[\u001b[0m\u001b[0mi\u001b[0m\u001b[0;34m]\u001b[0m\u001b[0;34m\u001b[0m\u001b[0;34m\u001b[0m\u001b[0m\n\u001b[0m",
            "\u001b[0;31mValueError\u001b[0m: could not broadcast input array from shape (38470,100) into shape (22657,100)"
          ]
        }
      ]
    }
  ]
}